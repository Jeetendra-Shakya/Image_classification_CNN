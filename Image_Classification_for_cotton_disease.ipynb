{
  "nbformat": 4,
  "nbformat_minor": 0,
  "metadata": {
    "kernelspec": {
      "display_name": "Python 3",
      "language": "python",
      "name": "python3"
    },
    "language_info": {
      "codemirror_mode": {
        "name": "ipython",
        "version": 3
      },
      "file_extension": ".py",
      "mimetype": "text/x-python",
      "name": "python",
      "nbconvert_exporter": "python",
      "pygments_lexer": "ipython3",
      "version": "3.7.7"
    },
    "colab": {
      "name": "Image Classification_for_cotton_disease.ipynb",
      "provenance": [],
      "machine_shape": "hm",
      "include_colab_link": true
    },
    "accelerator": "GPU"
  },
  "cells": [
    {
      "cell_type": "markdown",
      "metadata": {
        "id": "view-in-github",
        "colab_type": "text"
      },
      "source": [
        "<a href=\"https://colab.research.google.com/github/Jeetendra-Shakya/Image_classification_CNN/blob/main/Image_Classification_for_cotton_disease.ipynb\" target=\"_parent\"><img src=\"https://colab.research.google.com/assets/colab-badge.svg\" alt=\"Open In Colab\"/></a>"
      ]
    },
    {
      "cell_type": "markdown",
      "metadata": {
        "id": "dSzomO4Tm-di"
      },
      "source": [
        "#### Convolutional Neural Network"
      ]
    },
    {
      "cell_type": "code",
      "metadata": {
        "colab": {
          "base_uri": "https://localhost:8080/"
        },
        "id": "_Cl6ZxjsneEK",
        "outputId": "eda0cd65-c26d-4bf6-eb72-d4d357ecee70"
      },
      "source": [
        "# This model was created using google colab:\n",
        "# To check your GPU\n",
        "gpu_info = !nvidia-smi\n",
        "gpu_info = '\\n'.join(gpu_info)\n",
        "if gpu_info.find('failed') >= 0:\n",
        "  print('Select the Runtime > \"Change runtime type\" menu to enable a GPU accelerator, ')\n",
        "  print('and then re-execute this cell.')\n",
        "else:\n",
        "  print(gpu_info)"
      ],
      "execution_count": 5,
      "outputs": [
        {
          "output_type": "stream",
          "text": [
            "Wed Apr 28 06:59:33 2021       \n",
            "+-----------------------------------------------------------------------------+\n",
            "| NVIDIA-SMI 465.19.01    Driver Version: 460.32.03    CUDA Version: 11.2     |\n",
            "|-------------------------------+----------------------+----------------------+\n",
            "| GPU  Name        Persistence-M| Bus-Id        Disp.A | Volatile Uncorr. ECC |\n",
            "| Fan  Temp  Perf  Pwr:Usage/Cap|         Memory-Usage | GPU-Util  Compute M. |\n",
            "|                               |                      |               MIG M. |\n",
            "|===============================+======================+======================|\n",
            "|   0  Tesla P100-PCIE...  Off  | 00000000:00:04.0 Off |                    0 |\n",
            "| N/A   48C    P0    34W / 250W |    351MiB / 16280MiB |      0%      Default |\n",
            "|                               |                      |                  N/A |\n",
            "+-------------------------------+----------------------+----------------------+\n",
            "                                                                               \n",
            "+-----------------------------------------------------------------------------+\n",
            "| Processes:                                                                  |\n",
            "|  GPU   GI   CI        PID   Type   Process name                  GPU Memory |\n",
            "|        ID   ID                                                   Usage      |\n",
            "|=============================================================================|\n",
            "+-----------------------------------------------------------------------------+\n"
          ],
          "name": "stdout"
        }
      ]
    },
    {
      "cell_type": "code",
      "metadata": {
        "colab": {
          "base_uri": "https://localhost:8080/"
        },
        "id": "8c3wOHIOnfhA",
        "outputId": "b9eb1a05-2a78-445d-aa73-69784796f06b"
      },
      "source": [
        "# Tensorflow GPU\n",
        "\n",
        "import tensorflow as tf \n",
        "\n",
        "if tf.test.gpu_device_name(): \n",
        "    \n",
        "\n",
        "    print('Default GPU Device:{}'.format(tf.test.gpu_device_name()))\n",
        "\n",
        "else:\n",
        "\n",
        "    print(\"Please install GPU version of TF\")"
      ],
      "execution_count": 6,
      "outputs": [
        {
          "output_type": "stream",
          "text": [
            "Default GPU Device:/device:GPU:0\n"
          ],
          "name": "stdout"
        }
      ]
    },
    {
      "cell_type": "code",
      "metadata": {
        "colab": {
          "base_uri": "https://localhost:8080/"
        },
        "id": "t17YU9DvnnPR",
        "outputId": "fcd411d9-239a-406f-c1dc-a8dfc0a080bf"
      },
      "source": [
        "from google.colab import drive\n",
        "drive.mount('/content/drive/')"
      ],
      "execution_count": 7,
      "outputs": [
        {
          "output_type": "stream",
          "text": [
            "Drive already mounted at /content/drive/; to attempt to forcibly remount, call drive.mount(\"/content/drive/\", force_remount=True).\n"
          ],
          "name": "stdout"
        }
      ]
    },
    {
      "cell_type": "code",
      "metadata": {
        "id": "zVM-r34enfHe"
      },
      "source": [
        ""
      ],
      "execution_count": 7,
      "outputs": []
    },
    {
      "cell_type": "code",
      "metadata": {
        "id": "IzCNN8Ghm-dn"
      },
      "source": [
        "from tensorflow.compat.v1 import ConfigProto\n",
        "from tensorflow.compat.v1 import InteractiveSession\n",
        "\n",
        "config = ConfigProto()\n",
        "config.gpu_options.per_process_gpu_memory_fraction = 0.5\n",
        "config.gpu_options.allow_growth = True\n",
        "session = InteractiveSession(config=config)"
      ],
      "execution_count": 8,
      "outputs": []
    },
    {
      "cell_type": "code",
      "metadata": {
        "id": "-LnBLMcKm-do"
      },
      "source": [
        ""
      ],
      "execution_count": 8,
      "outputs": []
    },
    {
      "cell_type": "code",
      "metadata": {
        "id": "vz01K493m-do"
      },
      "source": [
        "# Convolutional Neural Network\n",
        "\n",
        "# Importing the libraries\n",
        "import tensorflow as tf\n",
        "from tensorflow.keras.preprocessing.image import ImageDataGenerator"
      ],
      "execution_count": 9,
      "outputs": []
    },
    {
      "cell_type": "code",
      "metadata": {
        "colab": {
          "base_uri": "https://localhost:8080/",
          "height": 35
        },
        "id": "2Zl8QFK2m-dp",
        "outputId": "db587f93-db4f-4509-fe62-d5d348fc03d0"
      },
      "source": [
        "tf.__version__"
      ],
      "execution_count": 10,
      "outputs": [
        {
          "output_type": "execute_result",
          "data": {
            "application/vnd.google.colaboratory.intrinsic+json": {
              "type": "string"
            },
            "text/plain": [
              "'2.4.1'"
            ]
          },
          "metadata": {
            "tags": []
          },
          "execution_count": 10
        }
      ]
    },
    {
      "cell_type": "code",
      "metadata": {
        "id": "WSZw9-Xfm-dp"
      },
      "source": [
        "# Part 1 - Data Preprocessing\n",
        "\n",
        "# Preprocessing the Training set\n",
        "train_datagen = ImageDataGenerator(rescale = 1./255,\n",
        "                                   shear_range = 0.2,\n",
        "                                   zoom_range = 0.2,\n",
        "                                   horizontal_flip = True)\n"
      ],
      "execution_count": 11,
      "outputs": []
    },
    {
      "cell_type": "code",
      "metadata": {
        "colab": {
          "base_uri": "https://localhost:8080/"
        },
        "id": "XY7xV6A3m-dq",
        "outputId": "236e6d5e-e903-4192-884a-ce191e319c0d"
      },
      "source": [
        "training_set = train_datagen.flow_from_directory('/content/drive/MyDrive/Cotton_Disease/train',\n",
        "                                                 target_size = (64, 64),\n",
        "                                                 batch_size = 32,\n",
        "                                                 class_mode = 'categorical')\n",
        "\n",
        "# Preprocessing the Test set\n",
        "test_datagen = ImageDataGenerator(rescale = 1./255)\n",
        "test_set = test_datagen.flow_from_directory('/content/drive/MyDrive/Cotton_Disease/test',\n",
        "                                            target_size = (64, 64),\n",
        "                                            batch_size = 32,\n",
        "                                            class_mode = 'categorical')"
      ],
      "execution_count": 12,
      "outputs": [
        {
          "output_type": "stream",
          "text": [
            "Found 1951 images belonging to 4 classes.\n",
            "Found 106 images belonging to 4 classes.\n"
          ],
          "name": "stdout"
        }
      ]
    },
    {
      "cell_type": "code",
      "metadata": {
        "id": "h0muzLiMm-dq"
      },
      "source": [
        "from tensorflow.keras.layers import Conv2D"
      ],
      "execution_count": 13,
      "outputs": []
    },
    {
      "cell_type": "code",
      "metadata": {
        "id": "DeTsFDPvm-dr"
      },
      "source": [
        "# Part 2 - Building the CNN\n",
        "\n",
        "# Initialising the CNN\n",
        "cnn = tf.keras.models.Sequential()\n",
        "\n",
        "# Step 1 - Convolution\n",
        "cnn.add(tf.keras.layers.Conv2D(filters=32,padding=\"same\",kernel_size=3, activation='relu', input_shape=[64, 64, 3]))\n",
        "\n",
        "# Step 2 - Pooling\n",
        "cnn.add(tf.keras.layers.MaxPool2D(pool_size=2, strides=2))\n",
        "\n",
        "# Adding a second convolutional layer\n",
        "cnn.add(tf.keras.layers.Conv2D(filters=32,padding='same',kernel_size=3, activation='relu'))\n",
        "cnn.add(tf.keras.layers.MaxPool2D(pool_size=2, strides=2))\n",
        "\n",
        "# Step 3 - Flattening\n",
        "cnn.add(tf.keras.layers.Flatten())\n",
        "\n",
        "# Step 4 - Full Connection\n",
        "cnn.add(tf.keras.layers.Dense(units=128, activation='relu'))\n",
        "\n",
        "# Step 5 - Output Layer\n",
        "cnn.add(tf.keras.layers.Dense(units=4, activation='softmax'))"
      ],
      "execution_count": 14,
      "outputs": []
    },
    {
      "cell_type": "code",
      "metadata": {
        "colab": {
          "base_uri": "https://localhost:8080/"
        },
        "id": "VcubFPC4m-dr",
        "outputId": "9f042a1e-5996-49a1-996c-7393412afe3b"
      },
      "source": [
        "cnn.summary()"
      ],
      "execution_count": 15,
      "outputs": [
        {
          "output_type": "stream",
          "text": [
            "Model: \"sequential\"\n",
            "_________________________________________________________________\n",
            "Layer (type)                 Output Shape              Param #   \n",
            "=================================================================\n",
            "conv2d (Conv2D)              (None, 64, 64, 32)        896       \n",
            "_________________________________________________________________\n",
            "max_pooling2d (MaxPooling2D) (None, 32, 32, 32)        0         \n",
            "_________________________________________________________________\n",
            "conv2d_1 (Conv2D)            (None, 32, 32, 32)        9248      \n",
            "_________________________________________________________________\n",
            "max_pooling2d_1 (MaxPooling2 (None, 16, 16, 32)        0         \n",
            "_________________________________________________________________\n",
            "flatten (Flatten)            (None, 8192)              0         \n",
            "_________________________________________________________________\n",
            "dense (Dense)                (None, 128)               1048704   \n",
            "_________________________________________________________________\n",
            "dense_1 (Dense)              (None, 4)                 516       \n",
            "=================================================================\n",
            "Total params: 1,059,364\n",
            "Trainable params: 1,059,364\n",
            "Non-trainable params: 0\n",
            "_________________________________________________________________\n"
          ],
          "name": "stdout"
        }
      ]
    },
    {
      "cell_type": "code",
      "metadata": {
        "scrolled": true,
        "colab": {
          "base_uri": "https://localhost:8080/"
        },
        "id": "px9gyAozm-dr",
        "outputId": "37c61617-e251-4b68-9d96-31ca8ac8be94"
      },
      "source": [
        "# Part 3 - Training the CNN\n",
        "\n",
        "# Compiling the CNN\n",
        "cnn.compile(optimizer = 'adam', loss = 'categorical_crossentropy', metrics = ['accuracy'])\n",
        "\n",
        "# Training the CNN on the Training set and evaluating it on the Test set\n",
        "r = cnn.fit(x = training_set, validation_data = test_set, epochs = 50)"
      ],
      "execution_count": 19,
      "outputs": [
        {
          "output_type": "stream",
          "text": [
            "Epoch 1/50\n",
            "61/61 [==============================] - 22s 350ms/step - loss: 0.0393 - accuracy: 0.9858 - val_loss: 0.2097 - val_accuracy: 0.9434\n",
            "Epoch 2/50\n",
            "61/61 [==============================] - 21s 347ms/step - loss: 0.0132 - accuracy: 0.9968 - val_loss: 0.3351 - val_accuracy: 0.9434\n",
            "Epoch 3/50\n",
            "61/61 [==============================] - 21s 346ms/step - loss: 0.0381 - accuracy: 0.9820 - val_loss: 0.1674 - val_accuracy: 0.9434\n",
            "Epoch 4/50\n",
            "61/61 [==============================] - 21s 340ms/step - loss: 0.0287 - accuracy: 0.9900 - val_loss: 0.1975 - val_accuracy: 0.9340\n",
            "Epoch 5/50\n",
            "61/61 [==============================] - 21s 350ms/step - loss: 0.0317 - accuracy: 0.9921 - val_loss: 0.2829 - val_accuracy: 0.9245\n",
            "Epoch 6/50\n",
            "61/61 [==============================] - 21s 343ms/step - loss: 0.0205 - accuracy: 0.9944 - val_loss: 0.3235 - val_accuracy: 0.9340\n",
            "Epoch 7/50\n",
            "61/61 [==============================] - 21s 347ms/step - loss: 0.0249 - accuracy: 0.9903 - val_loss: 0.1574 - val_accuracy: 0.9623\n",
            "Epoch 8/50\n",
            "61/61 [==============================] - 21s 342ms/step - loss: 0.0328 - accuracy: 0.9899 - val_loss: 0.3097 - val_accuracy: 0.9151\n",
            "Epoch 9/50\n",
            "61/61 [==============================] - 22s 355ms/step - loss: 0.0456 - accuracy: 0.9792 - val_loss: 0.1109 - val_accuracy: 0.9811\n",
            "Epoch 10/50\n",
            "61/61 [==============================] - 21s 344ms/step - loss: 0.0455 - accuracy: 0.9866 - val_loss: 0.2264 - val_accuracy: 0.9434\n",
            "Epoch 11/50\n",
            "61/61 [==============================] - 21s 341ms/step - loss: 0.0284 - accuracy: 0.9935 - val_loss: 0.1668 - val_accuracy: 0.9528\n",
            "Epoch 12/50\n",
            "61/61 [==============================] - 21s 347ms/step - loss: 0.0184 - accuracy: 0.9921 - val_loss: 0.1841 - val_accuracy: 0.9528\n",
            "Epoch 13/50\n",
            "61/61 [==============================] - 21s 344ms/step - loss: 0.0186 - accuracy: 0.9920 - val_loss: 0.1592 - val_accuracy: 0.9717\n",
            "Epoch 14/50\n",
            "61/61 [==============================] - 20s 336ms/step - loss: 0.0482 - accuracy: 0.9867 - val_loss: 0.0835 - val_accuracy: 0.9623\n",
            "Epoch 15/50\n",
            "61/61 [==============================] - 21s 352ms/step - loss: 0.0190 - accuracy: 0.9922 - val_loss: 0.3455 - val_accuracy: 0.9151\n",
            "Epoch 16/50\n",
            "61/61 [==============================] - 21s 345ms/step - loss: 0.0280 - accuracy: 0.9892 - val_loss: 0.0603 - val_accuracy: 0.9623\n",
            "Epoch 17/50\n",
            "61/61 [==============================] - 21s 340ms/step - loss: 0.0190 - accuracy: 0.9941 - val_loss: 0.1648 - val_accuracy: 0.9340\n",
            "Epoch 18/50\n",
            "61/61 [==============================] - 21s 345ms/step - loss: 0.0123 - accuracy: 0.9966 - val_loss: 0.1171 - val_accuracy: 0.9717\n",
            "Epoch 19/50\n",
            "61/61 [==============================] - 21s 342ms/step - loss: 0.0282 - accuracy: 0.9889 - val_loss: 0.3683 - val_accuracy: 0.9151\n",
            "Epoch 20/50\n",
            "61/61 [==============================] - 21s 347ms/step - loss: 0.0314 - accuracy: 0.9909 - val_loss: 0.4253 - val_accuracy: 0.9434\n",
            "Epoch 21/50\n",
            "61/61 [==============================] - 22s 356ms/step - loss: 0.0954 - accuracy: 0.9632 - val_loss: 0.2956 - val_accuracy: 0.9434\n",
            "Epoch 22/50\n",
            "61/61 [==============================] - 21s 343ms/step - loss: 0.0173 - accuracy: 0.9955 - val_loss: 0.1419 - val_accuracy: 0.9528\n",
            "Epoch 23/50\n",
            "61/61 [==============================] - 21s 348ms/step - loss: 0.0159 - accuracy: 0.9930 - val_loss: 0.2092 - val_accuracy: 0.9623\n",
            "Epoch 24/50\n",
            "61/61 [==============================] - 21s 343ms/step - loss: 0.0144 - accuracy: 0.9949 - val_loss: 0.1268 - val_accuracy: 0.9717\n",
            "Epoch 25/50\n",
            "61/61 [==============================] - 21s 345ms/step - loss: 0.0156 - accuracy: 0.9937 - val_loss: 0.2777 - val_accuracy: 0.9434\n",
            "Epoch 26/50\n",
            "61/61 [==============================] - 21s 352ms/step - loss: 0.0135 - accuracy: 0.9951 - val_loss: 0.1522 - val_accuracy: 0.9623\n",
            "Epoch 27/50\n",
            "61/61 [==============================] - 21s 352ms/step - loss: 0.0076 - accuracy: 0.9992 - val_loss: 0.1645 - val_accuracy: 0.9906\n",
            "Epoch 28/50\n",
            "61/61 [==============================] - 21s 341ms/step - loss: 0.0071 - accuracy: 0.9960 - val_loss: 0.2007 - val_accuracy: 0.9434\n",
            "Epoch 29/50\n",
            "61/61 [==============================] - 21s 338ms/step - loss: 0.0265 - accuracy: 0.9911 - val_loss: 0.1310 - val_accuracy: 0.9528\n",
            "Epoch 30/50\n",
            "61/61 [==============================] - 21s 346ms/step - loss: 0.0117 - accuracy: 0.9952 - val_loss: 0.0364 - val_accuracy: 0.9811\n",
            "Epoch 31/50\n",
            "61/61 [==============================] - 22s 356ms/step - loss: 0.0158 - accuracy: 0.9941 - val_loss: 0.0780 - val_accuracy: 0.9811\n",
            "Epoch 32/50\n",
            "61/61 [==============================] - 21s 350ms/step - loss: 0.0350 - accuracy: 0.9909 - val_loss: 0.0703 - val_accuracy: 0.9717\n",
            "Epoch 33/50\n",
            "61/61 [==============================] - 21s 348ms/step - loss: 0.0073 - accuracy: 0.9979 - val_loss: 0.0342 - val_accuracy: 0.9906\n",
            "Epoch 34/50\n",
            "61/61 [==============================] - 21s 343ms/step - loss: 0.0101 - accuracy: 0.9945 - val_loss: 0.0635 - val_accuracy: 0.9906\n",
            "Epoch 35/50\n",
            "61/61 [==============================] - 21s 352ms/step - loss: 0.0063 - accuracy: 0.9975 - val_loss: 0.3503 - val_accuracy: 0.9434\n",
            "Epoch 36/50\n",
            "61/61 [==============================] - 21s 350ms/step - loss: 0.0586 - accuracy: 0.9833 - val_loss: 0.1015 - val_accuracy: 0.9717\n",
            "Epoch 37/50\n",
            "61/61 [==============================] - 21s 344ms/step - loss: 0.0160 - accuracy: 0.9944 - val_loss: 0.2815 - val_accuracy: 0.9434\n",
            "Epoch 38/50\n",
            "61/61 [==============================] - 21s 352ms/step - loss: 0.0330 - accuracy: 0.9850 - val_loss: 0.0945 - val_accuracy: 0.9623\n",
            "Epoch 39/50\n",
            "61/61 [==============================] - 21s 344ms/step - loss: 0.0154 - accuracy: 0.9948 - val_loss: 0.2000 - val_accuracy: 0.9717\n",
            "Epoch 40/50\n",
            "61/61 [==============================] - 21s 348ms/step - loss: 0.0317 - accuracy: 0.9912 - val_loss: 0.0669 - val_accuracy: 0.9811\n",
            "Epoch 41/50\n",
            "61/61 [==============================] - 22s 356ms/step - loss: 0.0037 - accuracy: 0.9999 - val_loss: 0.0566 - val_accuracy: 0.9811\n",
            "Epoch 42/50\n",
            "61/61 [==============================] - 21s 339ms/step - loss: 0.0082 - accuracy: 0.9977 - val_loss: 0.0826 - val_accuracy: 0.9906\n",
            "Epoch 43/50\n",
            "61/61 [==============================] - 21s 344ms/step - loss: 0.0161 - accuracy: 0.9961 - val_loss: 0.0295 - val_accuracy: 0.9906\n",
            "Epoch 44/50\n",
            "61/61 [==============================] - 21s 346ms/step - loss: 0.0156 - accuracy: 0.9945 - val_loss: 0.1301 - val_accuracy: 0.9906\n",
            "Epoch 45/50\n",
            "61/61 [==============================] - 21s 338ms/step - loss: 0.0254 - accuracy: 0.9928 - val_loss: 0.3198 - val_accuracy: 0.9057\n",
            "Epoch 46/50\n",
            "61/61 [==============================] - 21s 343ms/step - loss: 0.0455 - accuracy: 0.9868 - val_loss: 0.0966 - val_accuracy: 0.9528\n",
            "Epoch 47/50\n",
            "61/61 [==============================] - 21s 347ms/step - loss: 0.0075 - accuracy: 0.9976 - val_loss: 0.0880 - val_accuracy: 0.9623\n",
            "Epoch 48/50\n",
            "61/61 [==============================] - 21s 350ms/step - loss: 0.0078 - accuracy: 0.9988 - val_loss: 0.2611 - val_accuracy: 0.9717\n",
            "Epoch 49/50\n",
            "61/61 [==============================] - 21s 342ms/step - loss: 0.0157 - accuracy: 0.9954 - val_loss: 0.0719 - val_accuracy: 0.9906\n",
            "Epoch 50/50\n",
            "61/61 [==============================] - 21s 339ms/step - loss: 0.0109 - accuracy: 0.9951 - val_loss: 0.1918 - val_accuracy: 0.9623\n"
          ],
          "name": "stdout"
        }
      ]
    },
    {
      "cell_type": "code",
      "metadata": {
        "colab": {
          "base_uri": "https://localhost:8080/",
          "height": 530
        },
        "id": "xPHO1zC_TK4v",
        "outputId": "315ee795-5797-4686-befe-69369cb3b390"
      },
      "source": [
        "# Plot loss and accuracy\n",
        "\n",
        "import matplotlib.pyplot as plt\n",
        "# plot the loss\n",
        "plt.plot(r.history['loss'], label='train loss')\n",
        "plt.plot(r.history['val_loss'], label='val loss')\n",
        "plt.legend()\n",
        "plt.show()\n",
        "plt.savefig('LossVal_loss_cnn')\n",
        "\n",
        "# plot the accuracy\n",
        "plt.plot(r.history['accuracy'], label='train acc')\n",
        "plt.plot(r.history['val_accuracy'], label='val acc')\n",
        "plt.legend()\n",
        "plt.show()\n",
        "plt.savefig('AccVal_acc_cnn')"
      ],
      "execution_count": 20,
      "outputs": [
        {
          "output_type": "display_data",
          "data": {
            "image/png": "[encoded data removed]",
            "text/plain": [
              "<Figure size 432x288 with 1 Axes>"
            ]
          },
          "metadata": {
            "tags": [],
            "needs_background": "light"
          }
        },
        {
          "output_type": "display_data",
          "data": {
            "image/png": "[encoded data removed]",
            "text/plain": [
              "<Figure size 432x288 with 1 Axes>"
            ]
          },
          "metadata": {
            "tags": [],
            "needs_background": "light"
          }
        },
        {
          "output_type": "display_data",
          "data": {
            "text/plain": [
              "<Figure size 432x288 with 0 Axes>"
            ]
          },
          "metadata": {
            "tags": []
          }
        }
      ]
    },
    {
      "cell_type": "code",
      "metadata": {
        "id": "iKcmOmbqm-ds"
      },
      "source": [
        "# save it as a h5 file\n",
        "\n",
        "\n",
        "from tensorflow.keras.models import load_model\n",
        "\n",
        "cnn.save('model_cotton_disease_cnn.h5')"
      ],
      "execution_count": 22,
      "outputs": []
    },
    {
      "cell_type": "code",
      "metadata": {
        "id": "tdum4Ywim-ds"
      },
      "source": [
        "from tensorflow.keras.models import load_model\n",
        " \n",
        "# load model\n",
        "model = load_model('model_cotton_disease_cnn.h5')"
      ],
      "execution_count": 23,
      "outputs": []
    },
    {
      "cell_type": "code",
      "metadata": {
        "colab": {
          "base_uri": "https://localhost:8080/"
        },
        "id": "6HHI04ubm-ds",
        "outputId": "acfe48f2-df7a-4ddb-939d-e2100027cf81"
      },
      "source": [
        "model.summary()"
      ],
      "execution_count": 24,
      "outputs": [
        {
          "output_type": "stream",
          "text": [
            "Model: \"sequential\"\n",
            "_________________________________________________________________\n",
            "Layer (type)                 Output Shape              Param #   \n",
            "=================================================================\n",
            "conv2d (Conv2D)              (None, 64, 64, 32)        896       \n",
            "_________________________________________________________________\n",
            "max_pooling2d (MaxPooling2D) (None, 32, 32, 32)        0         \n",
            "_________________________________________________________________\n",
            "conv2d_1 (Conv2D)            (None, 32, 32, 32)        9248      \n",
            "_________________________________________________________________\n",
            "max_pooling2d_1 (MaxPooling2 (None, 16, 16, 32)        0         \n",
            "_________________________________________________________________\n",
            "flatten (Flatten)            (None, 8192)              0         \n",
            "_________________________________________________________________\n",
            "dense (Dense)                (None, 128)               1048704   \n",
            "_________________________________________________________________\n",
            "dense_1 (Dense)              (None, 4)                 516       \n",
            "=================================================================\n",
            "Total params: 1,059,364\n",
            "Trainable params: 1,059,364\n",
            "Non-trainable params: 0\n",
            "_________________________________________________________________\n"
          ],
          "name": "stdout"
        }
      ]
    },
    {
      "cell_type": "code",
      "metadata": {
        "id": "-Icycr6vm-ds"
      },
      "source": [
        "# Part 4 - Making a single prediction\n",
        "\n",
        "import numpy as np\n",
        "from tensorflow.keras.preprocessing import image\n",
        "test_image = image.load_img('/content/drive/MyDrive/Cotton_Disease/test/diseased cotton leaf/dis_leaf (175)_iaip.jpg', target_size = (64,64))\n",
        "test_image = image.img_to_array(test_image)\n",
        "test_image=test_image/255\n",
        "test_image = np.expand_dims(test_image, axis = 0)\n",
        "result = cnn.predict(test_image)"
      ],
      "execution_count": 25,
      "outputs": []
    },
    {
      "cell_type": "code",
      "metadata": {
        "colab": {
          "base_uri": "https://localhost:8080/"
        },
        "id": "0p_tMF_bm-ds",
        "outputId": "12c56717-73f3-4fe8-a604-24ba99e3c9dd"
      },
      "source": [
        "test_image.shape"
      ],
      "execution_count": 26,
      "outputs": [
        {
          "output_type": "execute_result",
          "data": {
            "text/plain": [
              "(1, 64, 64, 3)"
            ]
          },
          "metadata": {
            "tags": []
          },
          "execution_count": 26
        }
      ]
    },
    {
      "cell_type": "code",
      "metadata": {
        "colab": {
          "base_uri": "https://localhost:8080/"
        },
        "id": "SooCoDb1m-dt",
        "outputId": "2ecff866-35b4-49fc-f52b-2315fb098da1"
      },
      "source": [
        "result"
      ],
      "execution_count": 27,
      "outputs": [
        {
          "output_type": "execute_result",
          "data": {
            "text/plain": [
              "array([[1.0000000e+00, 9.9055161e-13, 9.9222932e-16, 1.2237956e-16]],\n",
              "      dtype=float32)"
            ]
          },
          "metadata": {
            "tags": []
          },
          "execution_count": 27
        }
      ]
    },
    {
      "cell_type": "code",
      "metadata": {
        "id": "ep0QsjyYXacC"
      },
      "source": [
        "a=np.argmax(result, axis=1)"
      ],
      "execution_count": 28,
      "outputs": []
    },
    {
      "cell_type": "code",
      "metadata": {
        "colab": {
          "base_uri": "https://localhost:8080/"
        },
        "id": "lerNYADrXah5",
        "outputId": "24ed057d-49d3-4217-a850-369a4f890905"
      },
      "source": [
        "a"
      ],
      "execution_count": 29,
      "outputs": [
        {
          "output_type": "execute_result",
          "data": {
            "text/plain": [
              "array([0])"
            ]
          },
          "metadata": {
            "tags": []
          },
          "execution_count": 29
        }
      ]
    },
    {
      "cell_type": "code",
      "metadata": {
        "colab": {
          "base_uri": "https://localhost:8080/"
        },
        "id": "jSlgRreZXaoJ",
        "outputId": "df140523-c23c-4903-ec4a-a4a76dd352ec"
      },
      "source": [
        "if a == 0:\n",
        "    print(\"Diseased cotton leaf\")\n",
        "elif a == 1:\n",
        "  print(\"Diseased cotton plant\")\n",
        "elif a == 2:\n",
        "  print(\"Fresh cotton leaf\")\n",
        "else:\n",
        "  print(\"Fresh cotton plant\")"
      ],
      "execution_count": 30,
      "outputs": [
        {
          "output_type": "stream",
          "text": [
            "Diseased cotton leaf\n"
          ],
          "name": "stdout"
        }
      ]
    },
    {
      "cell_type": "code",
      "metadata": {
        "id": "_goZbNtCXhTr"
      },
      "source": [
        ""
      ],
      "execution_count": 30,
      "outputs": []
    },
    {
      "cell_type": "code",
      "metadata": {
        "id": "zauNl-MpTTyQ"
      },
      "source": [
        "# To Predict all test set just for checking\n",
        "y_pred = model.predict(test_set)"
      ],
      "execution_count": 31,
      "outputs": []
    },
    {
      "cell_type": "code",
      "metadata": {
        "colab": {
          "base_uri": "https://localhost:8080/"
        },
        "id": "uoZdwYUdTT-A",
        "outputId": "b634c137-23f9-435c-bafb-4956c9ea4077"
      },
      "source": [
        "y_pred"
      ],
      "execution_count": 32,
      "outputs": [
        {
          "output_type": "execute_result",
          "data": {
            "text/plain": [
              "array([[8.53601564e-11, 5.82539033e-05, 6.99189104e-06, 9.99934673e-01],\n",
              "       [1.00000000e+00, 4.40298153e-09, 1.00876883e-10, 9.69931579e-10],\n",
              "       [4.98774607e-18, 1.70894910e-03, 1.82398454e-11, 9.98291075e-01],\n",
              "       [4.07302177e-05, 5.02856565e-04, 9.62981164e-01, 3.64752561e-02],\n",
              "       [1.86928492e-17, 1.00000000e+00, 1.70838346e-18, 1.32058391e-08],\n",
              "       [1.00000000e+00, 2.48842585e-10, 2.34078842e-13, 4.31640876e-18],\n",
              "       [2.31870124e-15, 1.60941729e-11, 1.00000000e+00, 1.02929245e-11],\n",
              "       [1.00000000e+00, 9.67992640e-14, 4.13791146e-18, 2.13449738e-17],\n",
              "       [1.31468085e-18, 2.31450463e-06, 3.69635929e-14, 9.99997735e-01],\n",
              "       [5.74833014e-14, 2.86623589e-11, 1.00000000e+00, 3.17189254e-13],\n",
              "       [1.00000000e+00, 5.31268755e-14, 2.04091035e-19, 3.41613495e-19],\n",
              "       [3.84432521e-18, 1.00000000e+00, 5.34208077e-19, 3.88572247e-12],\n",
              "       [3.85911095e-12, 4.06899959e-01, 6.34371389e-10, 5.93100071e-01],\n",
              "       [4.83032295e-14, 9.32177144e-08, 6.16813409e-08, 9.99999762e-01],\n",
              "       [1.00000000e+00, 4.38549336e-11, 2.02614703e-09, 7.96724284e-11],\n",
              "       [1.00000000e+00, 9.37948038e-17, 2.24967430e-26, 7.13471391e-25],\n",
              "       [2.31278673e-01, 7.68721282e-01, 1.02333908e-09, 1.49381646e-13],\n",
              "       [4.15871290e-14, 3.95882262e-06, 9.99996066e-01, 1.67680800e-10],\n",
              "       [3.87423316e-14, 1.00000000e+00, 1.07405411e-10, 3.22761409e-08],\n",
              "       [2.24446557e-15, 4.93130983e-07, 8.03685894e-13, 9.99999523e-01],\n",
              "       [5.15036926e-19, 2.27287854e-03, 4.39842184e-21, 9.97727096e-01],\n",
              "       [9.99879241e-01, 1.35941139e-06, 8.48496074e-06, 1.11001682e-04],\n",
              "       [4.72636551e-01, 2.09558243e-03, 1.53845429e-01, 3.71422410e-01],\n",
              "       [1.41284781e-12, 1.86758542e-09, 1.00000000e+00, 2.08243492e-11],\n",
              "       [2.92871434e-08, 9.17085345e-05, 9.99894977e-01, 1.32854020e-05],\n",
              "       [2.46144008e-23, 9.99928951e-01, 1.26162776e-18, 7.10287495e-05],\n",
              "       [4.28632050e-16, 9.99954224e-01, 4.64585495e-17, 4.57328024e-05],\n",
              "       [6.66979509e-18, 1.00000000e+00, 8.76304862e-22, 4.70790767e-12],\n",
              "       [6.84956666e-15, 7.81037807e-02, 1.08738896e-05, 9.21885312e-01],\n",
              "       [1.00000000e+00, 2.04548800e-09, 7.92599984e-15, 3.70682562e-17],\n",
              "       [4.58234828e-03, 5.15398970e-05, 9.95363712e-01, 2.32885122e-06],\n",
              "       [2.14150512e-15, 1.00000000e+00, 4.25907241e-14, 3.41687567e-09],\n",
              "       [1.00000000e+00, 7.95459865e-10, 3.19893787e-15, 2.08329380e-14],\n",
              "       [1.30998851e-10, 1.00000000e+00, 1.89376713e-13, 4.22083124e-09],\n",
              "       [1.00000000e+00, 4.34922194e-12, 4.26949752e-15, 2.91342335e-14],\n",
              "       [8.00761692e-13, 2.42077887e-01, 1.41722145e-09, 7.57922173e-01],\n",
              "       [1.06996161e-12, 4.13095296e-12, 1.00000000e+00, 1.30268097e-13],\n",
              "       [1.96589536e-25, 1.00000000e+00, 8.61697265e-27, 9.24158550e-14],\n",
              "       [1.02356024e-09, 3.02606554e-06, 4.85366216e-19, 9.99997020e-01],\n",
              "       [3.84644210e-08, 1.04009446e-09, 1.00000000e+00, 3.42112704e-13],\n",
              "       [3.61328318e-08, 5.14758298e-08, 9.99998689e-01, 1.14399620e-06],\n",
              "       [4.48611065e-10, 2.11064119e-07, 9.99999404e-01, 3.84102776e-07],\n",
              "       [1.27847461e-16, 1.37048082e-05, 1.30142641e-09, 9.99986291e-01],\n",
              "       [3.27026299e-07, 1.02534310e-08, 9.99999404e-01, 2.32386284e-07],\n",
              "       [9.99995828e-01, 4.13038515e-06, 1.76550638e-18, 1.42082887e-10],\n",
              "       [2.05188140e-17, 1.32124231e-04, 1.01238345e-06, 9.99866962e-01],\n",
              "       [3.41399850e-19, 1.44855576e-08, 2.12518458e-11, 1.00000000e+00],\n",
              "       [1.45124908e-16, 1.00000000e+00, 9.44893443e-17, 4.76522111e-08],\n",
              "       [1.00000000e+00, 9.90542284e-13, 9.92214077e-16, 1.22379095e-16],\n",
              "       [9.99999642e-01, 3.31064967e-07, 9.08587094e-10, 2.27033843e-11],\n",
              "       [1.00000000e+00, 3.72866798e-12, 9.61069307e-19, 5.84525980e-18],\n",
              "       [1.00000000e+00, 2.73907425e-11, 5.01278630e-15, 6.90408456e-16],\n",
              "       [4.10196564e-11, 8.73376575e-06, 9.99759257e-01, 2.31996062e-04],\n",
              "       [4.16405219e-13, 8.99469852e-03, 1.94663778e-01, 7.96341479e-01],\n",
              "       [3.29908184e-10, 8.31191282e-10, 1.00000000e+00, 1.74841865e-08],\n",
              "       [1.60201487e-11, 5.96975669e-09, 1.00000000e+00, 2.90430666e-11],\n",
              "       [1.12527043e-16, 5.06091688e-04, 1.16609934e-12, 9.99493837e-01],\n",
              "       [9.99999404e-01, 7.56212248e-09, 5.61478032e-07, 3.77490920e-11],\n",
              "       [1.58353643e-11, 2.08295688e-01, 2.91803735e-06, 7.91701376e-01],\n",
              "       [7.39724874e-01, 8.91854233e-06, 2.60263741e-01, 2.46239119e-06],\n",
              "       [3.39083414e-11, 8.95598496e-05, 1.23985228e-06, 9.99909282e-01],\n",
              "       [6.87101981e-12, 1.00000000e+00, 2.75124325e-18, 2.62604660e-10],\n",
              "       [1.28520397e-11, 9.99996066e-01, 3.88330363e-06, 4.66983572e-08],\n",
              "       [2.57013205e-17, 1.00000000e+00, 2.25733298e-19, 2.26298313e-09],\n",
              "       [1.15868795e-13, 9.99999881e-01, 7.34139337e-18, 6.62648674e-08],\n",
              "       [5.36934775e-19, 9.93872046e-01, 5.98681392e-04, 5.52923046e-03],\n",
              "       [6.15881304e-12, 2.18797046e-11, 1.00000000e+00, 1.75655185e-11],\n",
              "       [1.13340314e-21, 1.27893267e-02, 2.50539411e-12, 9.87210631e-01],\n",
              "       [3.96780507e-18, 9.98557866e-01, 2.83694769e-12, 1.44215650e-03],\n",
              "       [9.93849714e-09, 1.18009984e-08, 9.99999404e-01, 5.66049096e-07],\n",
              "       [4.15871290e-14, 3.95882262e-06, 9.99996066e-01, 1.67680800e-10],\n",
              "       [1.41022529e-16, 1.00000000e+00, 3.29347535e-24, 1.90903608e-12],\n",
              "       [2.38120782e-21, 1.00000000e+00, 2.94525558e-24, 2.76480033e-10],\n",
              "       [9.99949098e-01, 5.09512611e-05, 7.34438975e-16, 1.57490370e-18],\n",
              "       [2.01137565e-10, 3.43627526e-08, 1.00000000e+00, 2.30501684e-09],\n",
              "       [2.77028844e-10, 2.59332523e-06, 9.99997377e-01, 4.39031780e-08],\n",
              "       [6.05392958e-11, 1.85943463e-05, 9.99981403e-01, 1.47196158e-10],\n",
              "       [9.77237751e-15, 9.99988317e-01, 4.63929025e-14, 1.17003437e-05],\n",
              "       [2.24534340e-13, 9.98864412e-01, 2.89362414e-12, 1.13556895e-03],\n",
              "       [7.50168807e-13, 6.84243133e-08, 3.13638476e-10, 9.99999881e-01],\n",
              "       [9.99128759e-01, 7.99994996e-06, 8.61064938e-04, 2.25943722e-06],\n",
              "       [2.03453099e-09, 9.99999881e-01, 3.80486224e-13, 8.13841510e-08],\n",
              "       [3.05025563e-13, 7.61710771e-06, 4.50908715e-07, 9.99991894e-01],\n",
              "       [2.23076262e-11, 1.00000000e+00, 5.50516473e-11, 3.75246962e-08],\n",
              "       [2.05659891e-16, 1.00000000e+00, 4.52894102e-12, 9.10465366e-12],\n",
              "       [1.75675812e-13, 9.96690631e-01, 3.72404330e-11, 3.30929901e-03],\n",
              "       [2.01378399e-15, 9.99999523e-01, 6.80228284e-16, 4.24769524e-07],\n",
              "       [2.52248031e-11, 1.18629721e-07, 9.99999166e-01, 6.91824766e-07],\n",
              "       [7.05857525e-11, 3.59561447e-08, 9.99998569e-01, 1.46933769e-06],\n",
              "       [2.03589327e-20, 2.72154750e-07, 2.93172778e-11, 9.99999762e-01],\n",
              "       [1.51710982e-08, 4.10420774e-03, 1.64533412e-05, 9.95879292e-01],\n",
              "       [2.94527992e-14, 9.98821318e-01, 1.15195277e-10, 1.17861188e-03],\n",
              "       [1.00000000e+00, 1.45024758e-12, 2.60089449e-13, 2.50489354e-13],\n",
              "       [1.68851599e-10, 1.29196565e-07, 9.99997973e-01, 1.92199354e-06],\n",
              "       [3.06642124e-22, 9.99844432e-01, 3.74664808e-17, 1.55584858e-04],\n",
              "       [1.23884286e-16, 3.63897462e-03, 9.94865596e-01, 1.49552315e-03],\n",
              "       [1.20306473e-10, 6.52982168e-10, 1.00000000e+00, 1.29229891e-10],\n",
              "       [4.82929085e-17, 9.99997377e-01, 6.98869518e-10, 2.57152487e-06],\n",
              "       [1.09519869e-12, 5.08427206e-07, 1.15442633e-08, 9.99999523e-01],\n",
              "       [7.98196786e-10, 2.66505485e-05, 9.97275889e-01, 2.69744592e-03],\n",
              "       [6.74144030e-05, 6.04902655e-02, 3.05456779e-05, 9.39411759e-01],\n",
              "       [4.09997801e-16, 1.33035974e-05, 4.12168780e-13, 9.99986649e-01],\n",
              "       [9.84374821e-01, 9.47986543e-03, 5.59137715e-03, 5.53905382e-04],\n",
              "       [1.80699749e-16, 3.88436527e-09, 1.40109183e-11, 1.00000000e+00],\n",
              "       [7.48861407e-20, 1.43655320e-03, 1.16343192e-10, 9.98563468e-01],\n",
              "       [1.75160819e-09, 5.60784992e-03, 7.42559969e-01, 2.51832157e-01]],\n",
              "      dtype=float32)"
            ]
          },
          "metadata": {
            "tags": []
          },
          "execution_count": 32
        }
      ]
    },
    {
      "cell_type": "code",
      "metadata": {
        "colab": {
          "base_uri": "https://localhost:8080/"
        },
        "id": "BSfhwbnTTUHK",
        "outputId": "4df39661-9404-40ee-fd0e-bb7c5fc899dd"
      },
      "source": [
        "import numpy as np\n",
        "y_pred = np.argmax(y_pred, axis=1)\n",
        "y_pred"
      ],
      "execution_count": 33,
      "outputs": [
        {
          "output_type": "execute_result",
          "data": {
            "text/plain": [
              "array([3, 0, 3, 2, 1, 0, 2, 0, 3, 2, 0, 1, 3, 3, 0, 0, 1, 2, 1, 3, 3, 0,\n",
              "       0, 2, 2, 1, 1, 1, 3, 0, 2, 1, 0, 1, 0, 3, 2, 1, 3, 2, 2, 2, 3, 2,\n",
              "       0, 3, 3, 1, 0, 0, 0, 0, 2, 3, 2, 2, 3, 0, 3, 0, 3, 1, 1, 1, 1, 1,\n",
              "       2, 3, 1, 2, 2, 1, 1, 0, 2, 2, 2, 1, 1, 3, 0, 1, 3, 1, 1, 1, 1, 2,\n",
              "       2, 3, 3, 1, 0, 2, 1, 2, 2, 1, 3, 2, 3, 3, 0, 3, 3, 2])"
            ]
          },
          "metadata": {
            "tags": []
          },
          "execution_count": 33
        }
      ]
    },
    {
      "cell_type": "code",
      "metadata": {
        "id": "rhz5xFfjm-dt"
      },
      "source": [
        ""
      ],
      "execution_count": null,
      "outputs": []
    }
  ]
}